{
 "cells": [
  {
   "cell_type": "code",
   "execution_count": null,
   "metadata": {},
   "outputs": [],
   "source": [
    "from pathlib import Path\n",
    "import argparse, os, json\n",
    "from pycocotools.coco import COCO\n",
    "from pycocotools.cocoeval import COCOeval\n",
    "\n",
    "ROOT_PATH = os.getcwd()\n",
    "DATASET_PATH = os.path.join(os.getcwd(), \"sample_dataset\")\n",
    "YOLO_WORKSPACE_PATH = os.path.join(os.getcwd(), \"yolov7\")"
   ]
  },
  {
   "cell_type": "markdown",
   "metadata": {},
   "source": [
    "## Training sample dataset"
   ]
  },
  {
   "cell_type": "code",
   "execution_count": 7,
   "metadata": {},
   "outputs": [],
   "source": [
    "yaml_bee_file = \"\"\"\n",
    "# train and val data as 1) directory: path/images/, 2) file: path/images.txt, or 3) list: [path1/images/, path2/images/]\n",
    "train: ../sample_dataset/train/\n",
    "val: ../sample_dataset/valid/\n",
    "\n",
    "# number of classes\n",
    "nc: 1\n",
    "\n",
    "# class names\n",
    "names: [ \"Honeybee\" ]\n",
    "\"\"\"\n",
    "\n",
    "bee_data = os.path.join(YOLO_WORKSPACE_PATH, \"bee_data_coco.yaml\")\n",
    "f = open(bee_data, \"w\")\n",
    "f.write(yaml_bee_file)\n",
    "f.close()"
   ]
  },
  {
   "cell_type": "code",
   "execution_count": null,
   "metadata": {},
   "outputs": [],
   "source": [
    "## create network arch config file -> yolo7 tiny\n",
    "yaml = \"\"\"\n",
    "# parameters\n",
    "nc: 1  # number of classes\n",
    "depth_multiple: 1.0  # model depth multiple\n",
    "width_multiple: 1.0  # layer channel multiple\n",
    "\n",
    "# anchors\n",
    "anchors:\n",
    "  - [10,13, 16,30, 33,23]  # P3/8\n",
    "  - [30,61, 62,45, 59,119]  # P4/16\n",
    "  - [116,90, 156,198, 373,326]  # P5/32\n",
    "\n",
    "# yolov7-tiny backbone\n",
    "backbone:\n",
    "  # [from, number, module, args] c2, k=1, s=1, p=None, g=1, act=True\n",
    "  [[-1, 1, Conv, [32, 3, 2, None, 1, nn.LeakyReLU(0.1)]],  # 0-P1/2  \n",
    "  \n",
    "   [-1, 1, Conv, [64, 3, 2, None, 1, nn.LeakyReLU(0.1)]],  # 1-P2/4    \n",
    "   \n",
    "   [-1, 1, Conv, [32, 1, 1, None, 1, nn.LeakyReLU(0.1)]],\n",
    "   [-2, 1, Conv, [32, 1, 1, None, 1, nn.LeakyReLU(0.1)]],\n",
    "   [-1, 1, Conv, [32, 3, 1, None, 1, nn.LeakyReLU(0.1)]],\n",
    "   [-1, 1, Conv, [32, 3, 1, None, 1, nn.LeakyReLU(0.1)]],\n",
    "   [[-1, -2, -3, -4], 1, Concat, [1]],\n",
    "   [-1, 1, Conv, [64, 1, 1, None, 1, nn.LeakyReLU(0.1)]],  # 7\n",
    "   \n",
    "   [-1, 1, MP, []],  # 8-P3/8\n",
    "   [-1, 1, Conv, [64, 1, 1, None, 1, nn.LeakyReLU(0.1)]],\n",
    "   [-2, 1, Conv, [64, 1, 1, None, 1, nn.LeakyReLU(0.1)]],\n",
    "   [-1, 1, Conv, [64, 3, 1, None, 1, nn.LeakyReLU(0.1)]],\n",
    "   [-1, 1, Conv, [64, 3, 1, None, 1, nn.LeakyReLU(0.1)]],\n",
    "   [[-1, -2, -3, -4], 1, Concat, [1]],\n",
    "   [-1, 1, Conv, [128, 1, 1, None, 1, nn.LeakyReLU(0.1)]],  # 14\n",
    "   \n",
    "   [-1, 1, MP, []],  # 15-P4/16\n",
    "   [-1, 1, Conv, [128, 1, 1, None, 1, nn.LeakyReLU(0.1)]],\n",
    "   [-2, 1, Conv, [128, 1, 1, None, 1, nn.LeakyReLU(0.1)]],\n",
    "   [-1, 1, Conv, [128, 3, 1, None, 1, nn.LeakyReLU(0.1)]],\n",
    "   [-1, 1, Conv, [128, 3, 1, None, 1, nn.LeakyReLU(0.1)]],\n",
    "   [[-1, -2, -3, -4], 1, Concat, [1]],\n",
    "   [-1, 1, Conv, [256, 1, 1, None, 1, nn.LeakyReLU(0.1)]],  # 21\n",
    "   \n",
    "   [-1, 1, MP, []],  # 22-P5/32\n",
    "   [-1, 1, Conv, [256, 1, 1, None, 1, nn.LeakyReLU(0.1)]],\n",
    "   [-2, 1, Conv, [256, 1, 1, None, 1, nn.LeakyReLU(0.1)]],\n",
    "   [-1, 1, Conv, [256, 3, 1, None, 1, nn.LeakyReLU(0.1)]],\n",
    "   [-1, 1, Conv, [256, 3, 1, None, 1, nn.LeakyReLU(0.1)]],\n",
    "   [[-1, -2, -3, -4], 1, Concat, [1]],\n",
    "   [-1, 1, Conv, [512, 1, 1, None, 1, nn.LeakyReLU(0.1)]],  # 28\n",
    "  ]\n",
    "\n",
    "# yolov7-tiny head\n",
    "head:\n",
    "  [[-1, 1, Conv, [256, 1, 1, None, 1, nn.LeakyReLU(0.1)]],\n",
    "   [-2, 1, Conv, [256, 1, 1, None, 1, nn.LeakyReLU(0.1)]],\n",
    "   [-1, 1, SP, [5]],\n",
    "   [-2, 1, SP, [9]],\n",
    "   [-3, 1, SP, [13]],\n",
    "   [[-1, -2, -3, -4], 1, Concat, [1]],\n",
    "   [-1, 1, Conv, [256, 1, 1, None, 1, nn.LeakyReLU(0.1)]],\n",
    "   [[-1, -7], 1, Concat, [1]],\n",
    "   [-1, 1, Conv, [256, 1, 1, None, 1, nn.LeakyReLU(0.1)]],  # 37\n",
    "  \n",
    "   [-1, 1, Conv, [128, 1, 1, None, 1, nn.LeakyReLU(0.1)]],\n",
    "   [-1, 1, nn.Upsample, [None, 2, 'nearest']],\n",
    "   [21, 1, Conv, [128, 1, 1, None, 1, nn.LeakyReLU(0.1)]], # route backbone P4\n",
    "   [[-1, -2], 1, Concat, [1]],\n",
    "   \n",
    "   [-1, 1, Conv, [64, 1, 1, None, 1, nn.LeakyReLU(0.1)]],\n",
    "   [-2, 1, Conv, [64, 1, 1, None, 1, nn.LeakyReLU(0.1)]],\n",
    "   [-1, 1, Conv, [64, 3, 1, None, 1, nn.LeakyReLU(0.1)]],\n",
    "   [-1, 1, Conv, [64, 3, 1, None, 1, nn.LeakyReLU(0.1)]],\n",
    "   [[-1, -2, -3, -4], 1, Concat, [1]],\n",
    "   [-1, 1, Conv, [128, 1, 1, None, 1, nn.LeakyReLU(0.1)]],  # 47\n",
    "  \n",
    "   [-1, 1, Conv, [64, 1, 1, None, 1, nn.LeakyReLU(0.1)]],\n",
    "   [-1, 1, nn.Upsample, [None, 2, 'nearest']],\n",
    "   [14, 1, Conv, [64, 1, 1, None, 1, nn.LeakyReLU(0.1)]], # route backbone P3\n",
    "   [[-1, -2], 1, Concat, [1]],\n",
    "   \n",
    "   [-1, 1, Conv, [32, 1, 1, None, 1, nn.LeakyReLU(0.1)]],\n",
    "   [-2, 1, Conv, [32, 1, 1, None, 1, nn.LeakyReLU(0.1)]],\n",
    "   [-1, 1, Conv, [32, 3, 1, None, 1, nn.LeakyReLU(0.1)]],\n",
    "   [-1, 1, Conv, [32, 3, 1, None, 1, nn.LeakyReLU(0.1)]],\n",
    "   [[-1, -2, -3, -4], 1, Concat, [1]],\n",
    "   [-1, 1, Conv, [64, 1, 1, None, 1, nn.LeakyReLU(0.1)]],  # 57\n",
    "   \n",
    "   [-1, 1, Conv, [128, 3, 2, None, 1, nn.LeakyReLU(0.1)]],\n",
    "   [[-1, 47], 1, Concat, [1]],\n",
    "   \n",
    "   [-1, 1, Conv, [64, 1, 1, None, 1, nn.LeakyReLU(0.1)]],\n",
    "   [-2, 1, Conv, [64, 1, 1, None, 1, nn.LeakyReLU(0.1)]],\n",
    "   [-1, 1, Conv, [64, 3, 1, None, 1, nn.LeakyReLU(0.1)]],\n",
    "   [-1, 1, Conv, [64, 3, 1, None, 1, nn.LeakyReLU(0.1)]],\n",
    "   [[-1, -2, -3, -4], 1, Concat, [1]],\n",
    "   [-1, 1, Conv, [128, 1, 1, None, 1, nn.LeakyReLU(0.1)]],  # 65\n",
    "   \n",
    "   [-1, 1, Conv, [256, 3, 2, None, 1, nn.LeakyReLU(0.1)]],\n",
    "   [[-1, 37], 1, Concat, [1]],\n",
    "   \n",
    "   [-1, 1, Conv, [128, 1, 1, None, 1, nn.LeakyReLU(0.1)]],\n",
    "   [-2, 1, Conv, [128, 1, 1, None, 1, nn.LeakyReLU(0.1)]],\n",
    "   [-1, 1, Conv, [128, 3, 1, None, 1, nn.LeakyReLU(0.1)]],\n",
    "   [-1, 1, Conv, [128, 3, 1, None, 1, nn.LeakyReLU(0.1)]],\n",
    "   [[-1, -2, -3, -4], 1, Concat, [1]],\n",
    "   [-1, 1, Conv, [256, 1, 1, None, 1, nn.LeakyReLU(0.1)]],  # 73\n",
    "      \n",
    "   [57, 1, Conv, [128, 3, 1, None, 1, nn.LeakyReLU(0.1)]],\n",
    "   [65, 1, Conv, [256, 3, 1, None, 1, nn.LeakyReLU(0.1)]],\n",
    "   [73, 1, Conv, [512, 3, 1, None, 1, nn.LeakyReLU(0.1)]],\n",
    "\n",
    "   [[74,75,76], 1, Detect, [nc, anchors]],   # Detect(P3, P4, P5)\n",
    "  ]\n",
    "\"\"\"\n",
    "bee_arch = os.path.join(YOLO_WORKSPACE_PATH, \"bee_arch.yaml\")\n",
    "f = open(bee_arch, \"w\")\n",
    "f.write(yaml)\n",
    "f.close()"
   ]
  },
  {
   "cell_type": "code",
   "execution_count": 58,
   "metadata": {},
   "outputs": [],
   "source": [
    "import os\n",
    "os.environ['KMP_DUPLICATE_LIB_OK']='True'\n",
    "%cd yolov7\n",
    "!python train.py --workers 8 --device 0 --epoch 50 --batch-size 2 --data bee_data_coco.yaml --img 640 --cfg bee_arch.yaml --weights 'yolov7_training.pt' --name test_result --hyp data/hyp.scratch.tiny.yaml --project test"
   ]
  },
  {
   "cell_type": "code",
   "execution_count": 54,
   "metadata": {},
   "outputs": [],
   "source": [
    "!python test.py --data bee_data_coco.yaml --img 640 --batch 2 --conf 0.001 --iou 0.65 --device 0 --weights test/test_result9/weights/best.pt"
   ]
  },
  {
   "cell_type": "markdown",
   "metadata": {},
   "source": [
    "## Get Prediction.json file"
   ]
  },
  {
   "cell_type": "code",
   "execution_count": 11,
   "metadata": {},
   "outputs": [
    {
     "name": "stdout",
     "output_type": "stream",
     "text": [
      "c:\\Users\\yonghoon\\Desktop\\cocoeval_with_yolov7\\yolov7\\runs\\test\\exp2\\best_predictions.json\n"
     ]
    }
   ],
   "source": [
    "import fnmatch\n",
    "def find(pattern, path):\n",
    "    result = []\n",
    "    for root, dirs, files in os.walk(path):\n",
    "        for name in files:\n",
    "            if fnmatch.fnmatch(name, pattern):\n",
    "                result.append(os.path.join(root, name))\n",
    "    return result\n",
    "\n",
    "pred_json = find(\"best_predictions.json\", os.getcwd())[-1]\n",
    "print(pred_json)"
   ]
  },
  {
   "cell_type": "code",
   "execution_count": 13,
   "metadata": {},
   "outputs": [
    {
     "name": "stdout",
     "output_type": "stream",
     "text": [
      "{'image_id': 'Screenshot-from-2021-12-29-17-34-45_png.rf.84d5c5d84d99aa31b105afd25cb1748f', 'category_id': 1, 'bbox': [0.0, 384.15, 30.002, 19.5], 'score': 0.12683}\n"
     ]
    }
   ],
   "source": [
    "pred = json.load(open(pred_json, 'r'))\n",
    "print(pred[0])"
   ]
  },
  {
   "cell_type": "markdown",
   "metadata": {},
   "source": [
    "## Get Annotation.json file"
   ]
  },
  {
   "cell_type": "code",
   "execution_count": 46,
   "metadata": {},
   "outputs": [
    {
     "name": "stdout",
     "output_type": "stream",
     "text": [
      "c:\\Users\\yonghoon\\Desktop\\cocoeval_with_yolov7\\sample_dataset\\valid\n",
      "images\n",
      "labels\n",
      "labels.cache\n",
      "merge\n",
      "obj.names\n",
      "valid.txt\n"
     ]
    }
   ],
   "source": [
    "import shutil\n",
    "valid = os.path.join(DATASET_PATH, \"valid\")\n",
    "merge = os.path.join(valid, \"merge\")\n",
    "## merge\n",
    "if ( not os.path.exists(merge) ):\n",
    "    os.makedirs(merge)\n",
    "%cd $valid\n",
    "txt = \"Honeybee\"\n",
    "f = open('obj.names', 'w')\n",
    "f.write(txt)\n",
    "f.close()\n",
    "!ls\n",
    "!cp -r images/*.jpg merge/\n",
    "!cp -r labels/*.txt merge/"
   ]
  },
  {
   "cell_type": "code",
   "execution_count": 47,
   "metadata": {},
   "outputs": [
    {
     "name": "stdout",
     "output_type": "stream",
     "text": [
      "c:\\Users\\yonghoon\\Desktop\\cocoeval_with_yolov7\\Yolo-to-COCO-format-converter\n"
     ]
    }
   ],
   "source": [
    "CONVERTER_PATH = os.path.join(ROOT_PATH, \"Yolo-to-COCO-format-converter\")\n",
    "%cd $CONVERTER_PATH"
   ]
  },
  {
   "cell_type": "code",
   "execution_count": 48,
   "metadata": {},
   "outputs": [
    {
     "name": "stdout",
     "output_type": "stream",
     "text": [
      "----File \".txt\" created successfully----\n"
     ]
    }
   ],
   "source": [
    "valid_txt = os.path.join(valid, \"valid.txt\")\n",
    "!python path_replacer.py --path_image_folder $merge --path_txt $valid_txt"
   ]
  },
  {
   "cell_type": "code",
   "execution_count": 53,
   "metadata": {},
   "outputs": [],
   "source": [
    "## important, main.py classes modify <-- !! -->\n",
    "!python main.py --path $valid_txt --output anno.json\n",
    "!cat output/anno.json"
   ]
  },
  {
   "cell_type": "code",
   "execution_count": 51,
   "metadata": {},
   "outputs": [],
   "source": [
    "## image id mapping\n",
    "valid_json_file = json.load(open(\"output/anno.json\", 'r'))\n",
    "image_id_filename_mapping = {}\n",
    "val_images = valid_json_file[\"images\"]\n",
    "for i in range(len(val_images)):\n",
    "    image_id_filename_mapping[val_images[i][\"file_name\"]] = val_images[i][\"id\"]  \n",
    "\n",
    "def getFilenameID(fname):\n",
    "    return image_id_filename_mapping[f\"{fname}.jpg\"]\n",
    "\n",
    "for i in range(len(pred)):\n",
    "    image_id = getFilenameID(pred[i][\"image_id\"])\n",
    "    pred[i][\"image_id\"] = image_id\n",
    "    pred[i][\"category_id\"] = 1\n",
    "\n",
    "with open(\"test.json\", \"w\") as outfile:\n",
    "    outfile.write(json.dumps(pred, indent=4))\n",
    "\n",
    "test = os.path.join(\"test.json\")"
   ]
  },
  {
   "cell_type": "code",
   "execution_count": 57,
   "metadata": {},
   "outputs": [
    {
     "name": "stdout",
     "output_type": "stream",
     "text": [
      "c:\\Users\\yonghoon\\Desktop\\cocoeval_with_yolov7\n",
      "loading annotations into memory...\n",
      "Done (t=0.00s)\n",
      "creating index...\n",
      "index created!\n",
      "Loading and preparing results...\n",
      "DONE (t=0.04s)\n",
      "creating index...\n",
      "index created!\n",
      "Running per image evaluation...\n",
      "Evaluate annotation type *bbox*\n",
      "DONE (t=0.68s).\n",
      "Accumulating evaluation results...\n",
      "DONE (t=0.03s).\n",
      " Average Precision  (AP) @[ IoU=0.50:0.95 | area=   all | maxDets=100 ] = 0.009\n",
      " Average Precision  (AP) @[ IoU=0.50      | area=   all | maxDets=100 ] = 0.045\n",
      " Average Precision  (AP) @[ IoU=0.75      | area=   all | maxDets=100 ] = 0.000\n",
      " Average Precision  (AP) @[ IoU=0.50:0.95 | area= small | maxDets=100 ] = 0.008\n",
      " Average Precision  (AP) @[ IoU=0.50:0.95 | area=medium | maxDets=100 ] = 0.017\n",
      " Average Precision  (AP) @[ IoU=0.50:0.95 | area= large | maxDets=100 ] = 0.074\n",
      " Average Recall     (AR) @[ IoU=0.50:0.95 | area=   all | maxDets=  1 ] = 0.004\n",
      " Average Recall     (AR) @[ IoU=0.50:0.95 | area=   all | maxDets= 10 ] = 0.026\n",
      " Average Recall     (AR) @[ IoU=0.50:0.95 | area=   all | maxDets=100 ] = 0.077\n",
      " Average Recall     (AR) @[ IoU=0.50:0.95 | area= small | maxDets=100 ] = 0.053\n",
      " Average Recall     (AR) @[ IoU=0.50:0.95 | area=medium | maxDets=100 ] = 0.115\n",
      " Average Recall     (AR) @[ IoU=0.50:0.95 | area= large | maxDets=100 ] = 0.200\n"
     ]
    }
   ],
   "source": [
    "%cd $ROOT_PATH\n",
    "!python get_coco_metric.py --annotation $CONVERTER_PATH/\"output/anno.json\" --prediction $CONVERTER_PATH/\"test.json\""
   ]
  },
  {
   "cell_type": "code",
   "execution_count": null,
   "metadata": {},
   "outputs": [],
   "source": []
  }
 ],
 "metadata": {
  "kernelspec": {
   "display_name": "Python 3.9.13 ('cocoevalYOLO')",
   "language": "python",
   "name": "python3"
  },
  "language_info": {
   "codemirror_mode": {
    "name": "ipython",
    "version": 3
   },
   "file_extension": ".py",
   "mimetype": "text/x-python",
   "name": "python",
   "nbconvert_exporter": "python",
   "pygments_lexer": "ipython3",
   "version": "3.9.13"
  },
  "orig_nbformat": 4,
  "vscode": {
   "interpreter": {
    "hash": "678c4a417e268ceeba0f4b8b567ed347d7812a69eac2eea8fd019d5ebb4f7f52"
   }
  }
 },
 "nbformat": 4,
 "nbformat_minor": 2
}
