{
 "cells": [
  {
   "cell_type": "code",
   "execution_count": 9,
   "metadata": {},
   "outputs": [],
   "source": [
    "from pathlib import Path\n",
    "import argparse, os, json\n",
    "from pycocotools.coco import COCO\n",
    "from pycocotools.cocoeval import COCOeval\n",
    "\n",
    "ROOT_PATH = os.getcwd()\n",
    "DATASET_PATH = os.path.join(os.getcwd(), \"sample_dataset\")\n",
    "YOLO_WORKSPACE_PATH = os.path.join(os.getcwd(), \"yolov7\")"
   ]
  },
  {
   "cell_type": "markdown",
   "metadata": {},
   "source": [
    "## Training sample dataset"
   ]
  },
  {
   "cell_type": "code",
   "execution_count": 10,
   "metadata": {},
   "outputs": [
    {
     "name": "stdout",
     "output_type": "stream",
     "text": [
      "[WinError 2] 지정된 파일을 찾을 수 없습니다: 'yolov7'\n",
      "c:\\Users\\yonghoon\\Desktop\\cocoeval_with_yolov7\\yolov7\n"
     ]
    },
    {
     "ename": "FileNotFoundError",
     "evalue": "[Errno 2] No such file or directory: 'c:\\\\Users\\\\yonghoon\\\\Desktop\\\\cocoeval_with_yolov7\\\\yolov7\\\\yolov7\\\\bee_data.yaml'",
     "output_type": "error",
     "traceback": [
      "\u001b[1;31m---------------------------------------------------------------------------\u001b[0m",
      "\u001b[1;31mFileNotFoundError\u001b[0m                         Traceback (most recent call last)",
      "\u001b[1;32mc:\\Users\\yonghoon\\Desktop\\cocoeval_with_yolov7\\example.ipynb 셀 3\u001b[0m in \u001b[0;36m<cell line: 15>\u001b[1;34m()\u001b[0m\n\u001b[0;32m      <a href='vscode-notebook-cell:/c%3A/Users/yonghoon/Desktop/cocoeval_with_yolov7/example.ipynb#ch0000001?line=1'>2</a>\u001b[0m yaml_bee_file \u001b[39m=\u001b[39m \u001b[39m\"\"\"\u001b[39m\n\u001b[0;32m      <a href='vscode-notebook-cell:/c%3A/Users/yonghoon/Desktop/cocoeval_with_yolov7/example.ipynb#ch0000001?line=2'>3</a>\u001b[0m \u001b[39m# train and val data as 1) directory: path/images/, 2) file: path/images.txt, or 3) list: [path1/images/, path2/images/]\u001b[39m\n\u001b[0;32m      <a href='vscode-notebook-cell:/c%3A/Users/yonghoon/Desktop/cocoeval_with_yolov7/example.ipynb#ch0000001?line=3'>4</a>\u001b[0m \u001b[39mtrain: ../sample_dataset/train/\u001b[39m\n\u001b[1;32m   (...)\u001b[0m\n\u001b[0;32m     <a href='vscode-notebook-cell:/c%3A/Users/yonghoon/Desktop/cocoeval_with_yolov7/example.ipynb#ch0000001?line=10'>11</a>\u001b[0m \u001b[39mnames: [ \u001b[39m\u001b[39m\"\u001b[39m\u001b[39mHoneybee\u001b[39m\u001b[39m\"\u001b[39m\u001b[39m ]\u001b[39m\n\u001b[0;32m     <a href='vscode-notebook-cell:/c%3A/Users/yonghoon/Desktop/cocoeval_with_yolov7/example.ipynb#ch0000001?line=11'>12</a>\u001b[0m \u001b[39m\"\"\"\u001b[39m\n\u001b[0;32m     <a href='vscode-notebook-cell:/c%3A/Users/yonghoon/Desktop/cocoeval_with_yolov7/example.ipynb#ch0000001?line=13'>14</a>\u001b[0m bee_data \u001b[39m=\u001b[39m os\u001b[39m.\u001b[39mpath\u001b[39m.\u001b[39mjoin(YOLO_WORKSPACE_PATH, \u001b[39m\"\u001b[39m\u001b[39mbee_data.yaml\u001b[39m\u001b[39m\"\u001b[39m)\n\u001b[1;32m---> <a href='vscode-notebook-cell:/c%3A/Users/yonghoon/Desktop/cocoeval_with_yolov7/example.ipynb#ch0000001?line=14'>15</a>\u001b[0m f \u001b[39m=\u001b[39m \u001b[39mopen\u001b[39;49m(bee_data, \u001b[39m\"\u001b[39;49m\u001b[39mw\u001b[39;49m\u001b[39m\"\u001b[39;49m)\n\u001b[0;32m     <a href='vscode-notebook-cell:/c%3A/Users/yonghoon/Desktop/cocoeval_with_yolov7/example.ipynb#ch0000001?line=15'>16</a>\u001b[0m f\u001b[39m.\u001b[39mwrite(yaml_bee_file)\n\u001b[0;32m     <a href='vscode-notebook-cell:/c%3A/Users/yonghoon/Desktop/cocoeval_with_yolov7/example.ipynb#ch0000001?line=16'>17</a>\u001b[0m f\u001b[39m.\u001b[39mclose()\n",
      "\u001b[1;31mFileNotFoundError\u001b[0m: [Errno 2] No such file or directory: 'c:\\\\Users\\\\yonghoon\\\\Desktop\\\\cocoeval_with_yolov7\\\\yolov7\\\\yolov7\\\\bee_data.yaml'"
     ]
    }
   ],
   "source": [
    "yaml_bee_file = \"\"\"\n",
    "# train and val data as 1) directory: path/images/, 2) file: path/images.txt, or 3) list: [path1/images/, path2/images/]\n",
    "train: ../sample_dataset/train/\n",
    "val: ../sample_dataset/valid/\n",
    "\n",
    "# number of classes\n",
    "nc: 1\n",
    "\n",
    "# class names\n",
    "names: [ \"Honeybee\" ]\n",
    "\"\"\"\n",
    "\n",
    "bee_data = os.path.join(YOLO_WORKSPACE_PATH, \"bee_data.yaml\")\n",
    "f = open(bee_data, \"w\")\n",
    "f.write(yaml_bee_file)\n",
    "f.close()"
   ]
  },
  {
   "cell_type": "code",
   "execution_count": 11,
   "metadata": {},
   "outputs": [
    {
     "ename": "FileNotFoundError",
     "evalue": "[Errno 2] No such file or directory: 'c:\\\\Users\\\\yonghoon\\\\Desktop\\\\cocoeval_with_yolov7\\\\yolov7\\\\yolov7\\\\bee_arch.yaml'",
     "output_type": "error",
     "traceback": [
      "\u001b[1;31m---------------------------------------------------------------------------\u001b[0m",
      "\u001b[1;31mFileNotFoundError\u001b[0m                         Traceback (most recent call last)",
      "\u001b[1;32mc:\\Users\\yonghoon\\Desktop\\cocoeval_with_yolov7\\example.ipynb 셀 4\u001b[0m in \u001b[0;36m<cell line: 117>\u001b[1;34m()\u001b[0m\n\u001b[0;32m      <a href='vscode-notebook-cell:/c%3A/Users/yonghoon/Desktop/cocoeval_with_yolov7/example.ipynb#ch0000005?line=1'>2</a>\u001b[0m yaml \u001b[39m=\u001b[39m \u001b[39m\"\"\"\u001b[39m\n\u001b[0;32m      <a href='vscode-notebook-cell:/c%3A/Users/yonghoon/Desktop/cocoeval_with_yolov7/example.ipynb#ch0000005?line=2'>3</a>\u001b[0m \u001b[39m# parameters\u001b[39m\n\u001b[0;32m      <a href='vscode-notebook-cell:/c%3A/Users/yonghoon/Desktop/cocoeval_with_yolov7/example.ipynb#ch0000005?line=3'>4</a>\u001b[0m \u001b[39mnc: 1  # number of classes\u001b[39m\n\u001b[1;32m   (...)\u001b[0m\n\u001b[0;32m    <a href='vscode-notebook-cell:/c%3A/Users/yonghoon/Desktop/cocoeval_with_yolov7/example.ipynb#ch0000005?line=113'>114</a>\u001b[0m \u001b[39m  ]\u001b[39m\n\u001b[0;32m    <a href='vscode-notebook-cell:/c%3A/Users/yonghoon/Desktop/cocoeval_with_yolov7/example.ipynb#ch0000005?line=114'>115</a>\u001b[0m \u001b[39m\"\"\"\u001b[39m\n\u001b[0;32m    <a href='vscode-notebook-cell:/c%3A/Users/yonghoon/Desktop/cocoeval_with_yolov7/example.ipynb#ch0000005?line=115'>116</a>\u001b[0m bee_arch \u001b[39m=\u001b[39m os\u001b[39m.\u001b[39mpath\u001b[39m.\u001b[39mjoin(YOLO_WORKSPACE_PATH, \u001b[39m\"\u001b[39m\u001b[39mbee_arch.yaml\u001b[39m\u001b[39m\"\u001b[39m)\n\u001b[1;32m--> <a href='vscode-notebook-cell:/c%3A/Users/yonghoon/Desktop/cocoeval_with_yolov7/example.ipynb#ch0000005?line=116'>117</a>\u001b[0m f \u001b[39m=\u001b[39m \u001b[39mopen\u001b[39;49m(bee_arch, \u001b[39m\"\u001b[39;49m\u001b[39mw\u001b[39;49m\u001b[39m\"\u001b[39;49m)\n\u001b[0;32m    <a href='vscode-notebook-cell:/c%3A/Users/yonghoon/Desktop/cocoeval_with_yolov7/example.ipynb#ch0000005?line=117'>118</a>\u001b[0m f\u001b[39m.\u001b[39mwrite(yaml)\n\u001b[0;32m    <a href='vscode-notebook-cell:/c%3A/Users/yonghoon/Desktop/cocoeval_with_yolov7/example.ipynb#ch0000005?line=118'>119</a>\u001b[0m f\u001b[39m.\u001b[39mclose()\n",
      "\u001b[1;31mFileNotFoundError\u001b[0m: [Errno 2] No such file or directory: 'c:\\\\Users\\\\yonghoon\\\\Desktop\\\\cocoeval_with_yolov7\\\\yolov7\\\\yolov7\\\\bee_arch.yaml'"
     ]
    }
   ],
   "source": [
    "## create network arch config file -> yolo7 tiny\n",
    "yaml = \"\"\"\n",
    "# parameters\n",
    "nc: 1  # number of classes\n",
    "depth_multiple: 1.0  # model depth multiple\n",
    "width_multiple: 1.0  # layer channel multiple\n",
    "\n",
    "# anchors\n",
    "anchors:\n",
    "  - [10,13, 16,30, 33,23]  # P3/8\n",
    "  - [30,61, 62,45, 59,119]  # P4/16\n",
    "  - [116,90, 156,198, 373,326]  # P5/32\n",
    "\n",
    "# yolov7-tiny backbone\n",
    "backbone:\n",
    "  # [from, number, module, args] c2, k=1, s=1, p=None, g=1, act=True\n",
    "  [[-1, 1, Conv, [32, 3, 2, None, 1, nn.LeakyReLU(0.1)]],  # 0-P1/2  \n",
    "  \n",
    "   [-1, 1, Conv, [64, 3, 2, None, 1, nn.LeakyReLU(0.1)]],  # 1-P2/4    \n",
    "   \n",
    "   [-1, 1, Conv, [32, 1, 1, None, 1, nn.LeakyReLU(0.1)]],\n",
    "   [-2, 1, Conv, [32, 1, 1, None, 1, nn.LeakyReLU(0.1)]],\n",
    "   [-1, 1, Conv, [32, 3, 1, None, 1, nn.LeakyReLU(0.1)]],\n",
    "   [-1, 1, Conv, [32, 3, 1, None, 1, nn.LeakyReLU(0.1)]],\n",
    "   [[-1, -2, -3, -4], 1, Concat, [1]],\n",
    "   [-1, 1, Conv, [64, 1, 1, None, 1, nn.LeakyReLU(0.1)]],  # 7\n",
    "   \n",
    "   [-1, 1, MP, []],  # 8-P3/8\n",
    "   [-1, 1, Conv, [64, 1, 1, None, 1, nn.LeakyReLU(0.1)]],\n",
    "   [-2, 1, Conv, [64, 1, 1, None, 1, nn.LeakyReLU(0.1)]],\n",
    "   [-1, 1, Conv, [64, 3, 1, None, 1, nn.LeakyReLU(0.1)]],\n",
    "   [-1, 1, Conv, [64, 3, 1, None, 1, nn.LeakyReLU(0.1)]],\n",
    "   [[-1, -2, -3, -4], 1, Concat, [1]],\n",
    "   [-1, 1, Conv, [128, 1, 1, None, 1, nn.LeakyReLU(0.1)]],  # 14\n",
    "   \n",
    "   [-1, 1, MP, []],  # 15-P4/16\n",
    "   [-1, 1, Conv, [128, 1, 1, None, 1, nn.LeakyReLU(0.1)]],\n",
    "   [-2, 1, Conv, [128, 1, 1, None, 1, nn.LeakyReLU(0.1)]],\n",
    "   [-1, 1, Conv, [128, 3, 1, None, 1, nn.LeakyReLU(0.1)]],\n",
    "   [-1, 1, Conv, [128, 3, 1, None, 1, nn.LeakyReLU(0.1)]],\n",
    "   [[-1, -2, -3, -4], 1, Concat, [1]],\n",
    "   [-1, 1, Conv, [256, 1, 1, None, 1, nn.LeakyReLU(0.1)]],  # 21\n",
    "   \n",
    "   [-1, 1, MP, []],  # 22-P5/32\n",
    "   [-1, 1, Conv, [256, 1, 1, None, 1, nn.LeakyReLU(0.1)]],\n",
    "   [-2, 1, Conv, [256, 1, 1, None, 1, nn.LeakyReLU(0.1)]],\n",
    "   [-1, 1, Conv, [256, 3, 1, None, 1, nn.LeakyReLU(0.1)]],\n",
    "   [-1, 1, Conv, [256, 3, 1, None, 1, nn.LeakyReLU(0.1)]],\n",
    "   [[-1, -2, -3, -4], 1, Concat, [1]],\n",
    "   [-1, 1, Conv, [512, 1, 1, None, 1, nn.LeakyReLU(0.1)]],  # 28\n",
    "  ]\n",
    "\n",
    "# yolov7-tiny head\n",
    "head:\n",
    "  [[-1, 1, Conv, [256, 1, 1, None, 1, nn.LeakyReLU(0.1)]],\n",
    "   [-2, 1, Conv, [256, 1, 1, None, 1, nn.LeakyReLU(0.1)]],\n",
    "   [-1, 1, SP, [5]],\n",
    "   [-2, 1, SP, [9]],\n",
    "   [-3, 1, SP, [13]],\n",
    "   [[-1, -2, -3, -4], 1, Concat, [1]],\n",
    "   [-1, 1, Conv, [256, 1, 1, None, 1, nn.LeakyReLU(0.1)]],\n",
    "   [[-1, -7], 1, Concat, [1]],\n",
    "   [-1, 1, Conv, [256, 1, 1, None, 1, nn.LeakyReLU(0.1)]],  # 37\n",
    "  \n",
    "   [-1, 1, Conv, [128, 1, 1, None, 1, nn.LeakyReLU(0.1)]],\n",
    "   [-1, 1, nn.Upsample, [None, 2, 'nearest']],\n",
    "   [21, 1, Conv, [128, 1, 1, None, 1, nn.LeakyReLU(0.1)]], # route backbone P4\n",
    "   [[-1, -2], 1, Concat, [1]],\n",
    "   \n",
    "   [-1, 1, Conv, [64, 1, 1, None, 1, nn.LeakyReLU(0.1)]],\n",
    "   [-2, 1, Conv, [64, 1, 1, None, 1, nn.LeakyReLU(0.1)]],\n",
    "   [-1, 1, Conv, [64, 3, 1, None, 1, nn.LeakyReLU(0.1)]],\n",
    "   [-1, 1, Conv, [64, 3, 1, None, 1, nn.LeakyReLU(0.1)]],\n",
    "   [[-1, -2, -3, -4], 1, Concat, [1]],\n",
    "   [-1, 1, Conv, [128, 1, 1, None, 1, nn.LeakyReLU(0.1)]],  # 47\n",
    "  \n",
    "   [-1, 1, Conv, [64, 1, 1, None, 1, nn.LeakyReLU(0.1)]],\n",
    "   [-1, 1, nn.Upsample, [None, 2, 'nearest']],\n",
    "   [14, 1, Conv, [64, 1, 1, None, 1, nn.LeakyReLU(0.1)]], # route backbone P3\n",
    "   [[-1, -2], 1, Concat, [1]],\n",
    "   \n",
    "   [-1, 1, Conv, [32, 1, 1, None, 1, nn.LeakyReLU(0.1)]],\n",
    "   [-2, 1, Conv, [32, 1, 1, None, 1, nn.LeakyReLU(0.1)]],\n",
    "   [-1, 1, Conv, [32, 3, 1, None, 1, nn.LeakyReLU(0.1)]],\n",
    "   [-1, 1, Conv, [32, 3, 1, None, 1, nn.LeakyReLU(0.1)]],\n",
    "   [[-1, -2, -3, -4], 1, Concat, [1]],\n",
    "   [-1, 1, Conv, [64, 1, 1, None, 1, nn.LeakyReLU(0.1)]],  # 57\n",
    "   \n",
    "   [-1, 1, Conv, [128, 3, 2, None, 1, nn.LeakyReLU(0.1)]],\n",
    "   [[-1, 47], 1, Concat, [1]],\n",
    "   \n",
    "   [-1, 1, Conv, [64, 1, 1, None, 1, nn.LeakyReLU(0.1)]],\n",
    "   [-2, 1, Conv, [64, 1, 1, None, 1, nn.LeakyReLU(0.1)]],\n",
    "   [-1, 1, Conv, [64, 3, 1, None, 1, nn.LeakyReLU(0.1)]],\n",
    "   [-1, 1, Conv, [64, 3, 1, None, 1, nn.LeakyReLU(0.1)]],\n",
    "   [[-1, -2, -3, -4], 1, Concat, [1]],\n",
    "   [-1, 1, Conv, [128, 1, 1, None, 1, nn.LeakyReLU(0.1)]],  # 65\n",
    "   \n",
    "   [-1, 1, Conv, [256, 3, 2, None, 1, nn.LeakyReLU(0.1)]],\n",
    "   [[-1, 37], 1, Concat, [1]],\n",
    "   \n",
    "   [-1, 1, Conv, [128, 1, 1, None, 1, nn.LeakyReLU(0.1)]],\n",
    "   [-2, 1, Conv, [128, 1, 1, None, 1, nn.LeakyReLU(0.1)]],\n",
    "   [-1, 1, Conv, [128, 3, 1, None, 1, nn.LeakyReLU(0.1)]],\n",
    "   [-1, 1, Conv, [128, 3, 1, None, 1, nn.LeakyReLU(0.1)]],\n",
    "   [[-1, -2, -3, -4], 1, Concat, [1]],\n",
    "   [-1, 1, Conv, [256, 1, 1, None, 1, nn.LeakyReLU(0.1)]],  # 73\n",
    "      \n",
    "   [57, 1, Conv, [128, 3, 1, None, 1, nn.LeakyReLU(0.1)]],\n",
    "   [65, 1, Conv, [256, 3, 1, None, 1, nn.LeakyReLU(0.1)]],\n",
    "   [73, 1, Conv, [512, 3, 1, None, 1, nn.LeakyReLU(0.1)]],\n",
    "\n",
    "   [[74,75,76], 1, Detect, [nc, anchors]],   # Detect(P3, P4, P5)\n",
    "  ]\n",
    "\"\"\"\n",
    "bee_arch = os.path.join(YOLO_WORKSPACE_PATH, \"bee_arch.yaml\")\n",
    "f = open(bee_arch, \"w\")\n",
    "f.write(yaml)\n",
    "f.close()\n",
    "\n",
    "# bee_data.yaml\n",
    "# bee_arch.yaml\n",
    "# data/hyp.scratch.tiny.yaml"
   ]
  },
  {
   "cell_type": "code",
   "execution_count": null,
   "metadata": {},
   "outputs": [],
   "source": [
    "!python train.py --device 0 --batch-size 8 --data bee_data.yaml --img 640 640 --cfg bee_arch.yaml --weights '' --name test_result --hyp data/hyp.scratch.tiny.yaml --project test"
   ]
  }
 ],
 "metadata": {
  "kernelspec": {
   "display_name": "Python 3.9.13 ('cocoevalYOLO')",
   "language": "python",
   "name": "python3"
  },
  "language_info": {
   "codemirror_mode": {
    "name": "ipython",
    "version": 3
   },
   "file_extension": ".py",
   "mimetype": "text/x-python",
   "name": "python",
   "nbconvert_exporter": "python",
   "pygments_lexer": "ipython3",
   "version": "3.9.13"
  },
  "orig_nbformat": 4,
  "vscode": {
   "interpreter": {
    "hash": "678c4a417e268ceeba0f4b8b567ed347d7812a69eac2eea8fd019d5ebb4f7f52"
   }
  }
 },
 "nbformat": 4,
 "nbformat_minor": 2
}
